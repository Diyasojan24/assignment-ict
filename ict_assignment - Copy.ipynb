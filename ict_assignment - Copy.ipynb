{
  "nbformat": 4,
  "nbformat_minor": 0,
  "metadata": {
    "colab": {
      "provenance": []
    },
    "kernelspec": {
      "name": "python3",
      "display_name": "Python 3"
    },
    "language_info": {
      "name": "python"
    }
  },
  "cells": [
    {
      "cell_type": "code",
      "execution_count": 2,
      "metadata": {
        "colab": {
          "base_uri": "https://localhost:8080/"
        },
        "id": "8fW99bXPScho",
        "outputId": "247228f2-6b92-4887-92b1-695a0fdbc0b9"
      },
      "outputs": [
        {
          "output_type": "stream",
          "name": "stdout",
          "text": [
            "Minimum value: 1\n",
            "Maximum value: 9\n"
          ]
        }
      ],
      "source": [
        "def get_range(numbers):\n",
        " if not numbers:\n",
        "  return None, None\n",
        " min_value = min(numbers)\n",
        " max_value = max(numbers)\n",
        " return min_value, max_value\n",
        "\n",
        "numbers = [5, 2, 9, 1, 7]\n",
        "min_val, max_val = get_range(numbers)\n",
        "\n",
        "\n",
        "print(\"Minimum value:\", min_val)\n",
        "print(\"Maximum value:\", max_val)"
      ]
    },
    {
      "cell_type": "markdown",
      "source": [
        " Write a function that return the range (maximum and minimun) of a given list of numbers"
      ],
      "metadata": {
        "id": "YLVmxfF__Xi9"
      }
    },
    {
      "cell_type": "code",
      "source": [
        "def mean_value(numbers):\n",
        "    sum_numbers = 0\n",
        "    for number in numbers:\n",
        "        sum_numbers =sum_numbers+number\n",
        "    mean=sum_numbers / len(numbers)\n",
        "    return mean\n",
        "\n",
        "numbers = [5, 2, 9, 1, 7]\n",
        "mean = mean_value(numbers)\n",
        "print(\"Mean value:\", mean)"
      ],
      "metadata": {
        "colab": {
          "base_uri": "https://localhost:8080/"
        },
        "id": "lU9gWuXfWCX9",
        "outputId": "19fb596f-ec52-446f-b940-8bde74408d35"
      },
      "execution_count": 11,
      "outputs": [
        {
          "output_type": "stream",
          "name": "stdout",
          "text": [
            "Mean value: 4.8\n"
          ]
        }
      ]
    },
    {
      "cell_type": "markdown",
      "source": [
        " Write function that returns mean value of a list of numbers"
      ],
      "metadata": {
        "id": "HtvN0Edc_nim"
      }
    },
    {
      "cell_type": "code",
      "source": [
        "def median_value(numbers):\n",
        "    sorted_numbers = sorted(numbers)\n",
        "    n = len(sorted_numbers)\n",
        "    if n%2==0:\n",
        "     median = (sorted_numbers[n//2-1]+sorted_numbers[n//2])/2\n",
        "    else:\n",
        "     median=(sorted_numbers[n//2])\n",
        "    return median\n",
        "\n",
        "numbers = [5, 2, 9, 1, 7]\n",
        "median = median_value(numbers)\n",
        "print(\"Median value:\", median)\n"
      ],
      "metadata": {
        "colab": {
          "base_uri": "https://localhost:8080/"
        },
        "id": "DJY4EOlKaLx1",
        "outputId": "37e813a2-f830-413c-e3cf-7362c1b5d15f"
      },
      "execution_count": 17,
      "outputs": [
        {
          "output_type": "stream",
          "name": "stdout",
          "text": [
            "Median value: 5\n"
          ]
        }
      ]
    },
    {
      "cell_type": "markdown",
      "source": [
        "Write a function that returns the median value of a list of numbers"
      ],
      "metadata": {
        "id": "M4EYHKrU_r6l"
      }
    },
    {
      "cell_type": "code",
      "source": [
        "def mode_value(numbers):\n",
        "    frequency = {}\n",
        "    for number in numbers:\n",
        "        if number in frequency:\n",
        "            frequency[number] += 1\n",
        "        else:\n",
        "            frequency[number] = 1\n",
        "    max_frequency = max(frequency.values())\n",
        "\n",
        "    mode = [number for number, freq in frequency.items() if freq == max_frequency]\n",
        "    return mode\n",
        "\n",
        "numbers = [5, 2, 9, 1, 7, 7]\n",
        "mode = mode_value(numbers)\n",
        "print(\"Mode value:\", mode)"
      ],
      "metadata": {
        "colab": {
          "base_uri": "https://localhost:8080/"
        },
        "id": "L4UQwKRadcVV",
        "outputId": "f804d880-1a06-4a29-829e-018e965ae138"
      },
      "execution_count": 77,
      "outputs": [
        {
          "output_type": "stream",
          "name": "stdout",
          "text": [
            "Mode value: [7]\n"
          ]
        }
      ]
    },
    {
      "cell_type": "markdown",
      "source": [
        "Write a function to return the mod of a list of numbers, if no mod exists, it should return None. If more than one mod exist, return the mod values as list"
      ],
      "metadata": {
        "id": "gdl3BOlU_vxt"
      }
    },
    {
      "cell_type": "code",
      "source": [
        "def percentile_calculation(numbers):\n",
        "  numbers=sorted(numbers)\n",
        "  n=len(numbers)\n",
        "  a=90\n",
        "  percentile=(a/100)*n+1\n",
        "  return percentile\n",
        "\n",
        "numbers = [5, 2, 9, 1, 7]\n",
        "percentile = percentile_calculation(numbers)\n",
        "print(\"Percentile value:\", percentile)\n",
        "\n",
        ""
      ],
      "metadata": {
        "colab": {
          "base_uri": "https://localhost:8080/"
        },
        "id": "NU4iCwe4gLvG",
        "outputId": "72e92ce3-0e33-4f63-aef5-2bfa57202a41"
      },
      "execution_count": 26,
      "outputs": [
        {
          "output_type": "stream",
          "name": "stdout",
          "text": [
            "Percentile value: 5.5\n"
          ]
        }
      ]
    },
    {
      "cell_type": "markdown",
      "source": [
        "write a function to compute a given percentile value(90%) of a list of numbers."
      ],
      "metadata": {
        "id": "g7Vgwe3Lh6oU"
      }
    },
    {
      "cell_type": "code",
      "source": [
        "def lower_bound(a):\n",
        "   n=len(a)\n",
        "   Q1=int(25/100)*(n+1)\n",
        "   Q3=int(75/100)*(n+1)\n",
        "   IQR=a[Q3]-a[Q1]\n",
        "   LB=a[Q1]-1.5*IQR\n",
        "   return LB\n",
        "a=[20,30,50,60]\n",
        "LB=lower_bound(a)\n",
        "print(LB)\n",
        "\n"
      ],
      "metadata": {
        "colab": {
          "base_uri": "https://localhost:8080/"
        },
        "id": "1EmZXiK0v4iG",
        "outputId": "36d6452d-6758-474f-edd6-5fcdadf82840"
      },
      "execution_count": 36,
      "outputs": [
        {
          "output_type": "stream",
          "name": "stdout",
          "text": [
            "20.0\n"
          ]
        }
      ]
    },
    {
      "cell_type": "markdown",
      "source": [
        "Write a function that returns the lower bound of a list of numbers"
      ],
      "metadata": {
        "id": "S3pdCL2m_B8H"
      }
    },
    {
      "cell_type": "code",
      "source": [
        "def find_outliers(a):\n",
        "   a=sorted(a)\n",
        "   n=len(a)\n",
        "   Q1=int(25/100)*(n+1)\n",
        "   Q3=int(75/100)*(n+1)\n",
        "   IQR=a[Q3]-a[Q1]\n",
        "   LB=a[Q1]-1.5*IQR\n",
        "   UB=a[Q3]+1.5*IQR\n",
        "   outliers=[x for x in a if x<LB or x>UB]\n",
        "   if outliers:\n",
        "     return outliers\n",
        "   else:\n",
        "        return None\n",
        "a=[10,20,30,40]\n",
        "outliers=find_outliers(a)\n",
        "print(outliers)"
      ],
      "metadata": {
        "colab": {
          "base_uri": "https://localhost:8080/"
        },
        "id": "dxwJnkrX3j1G",
        "outputId": "4e2a476f-67af-42a3-f1de-e92af7782ecf"
      },
      "execution_count": 62,
      "outputs": [
        {
          "output_type": "stream",
          "name": "stdout",
          "text": [
            "[20, 30, 40]\n"
          ]
        }
      ]
    },
    {
      "cell_type": "markdown",
      "source": [
        "Write function to return any outliers from a given list of numbers, if no outliers present it should return None\n"
      ],
      "metadata": {
        "id": "AcAlN_QOx8cV"
      }
    },
    {
      "cell_type": "code",
      "source": [
        "def standard_devaition(a):\n",
        " n=len(a)\n",
        " b=sum(a)/n\n",
        " c=sum([(x-b)**2 for x in a])/n\n",
        " sd=c**0.5\n",
        " return sd\n",
        "a=[20,30,50,60]\n",
        "sd=standard_devaition(a)\n",
        "print(sd)"
      ],
      "metadata": {
        "colab": {
          "base_uri": "https://localhost:8080/"
        },
        "id": "8M_uoelY5QNe",
        "outputId": "0e73f598-0843-4ecd-f711-7229d23338b1"
      },
      "execution_count": 66,
      "outputs": [
        {
          "output_type": "stream",
          "name": "stdout",
          "text": [
            "15.811388300841896\n"
          ]
        }
      ]
    },
    {
      "cell_type": "markdown",
      "source": [
        "Write a function to return standard deviation of a list of numbers"
      ],
      "metadata": {
        "id": "993BFUty6_Me"
      }
    },
    {
      "cell_type": "code",
      "source": [
        "def z_score(x,a):\n",
        "    n = len(a)\n",
        "    mean = sum(a) / n\n",
        "    variance = sum([(i - mean) ** 2 for i in a]) / n\n",
        "    sd = variance ** 0.5\n",
        "    return (x - mean) / sd\n",
        "a = [20, 30, 50, 60]\n",
        "x = 60\n",
        "z=z_score(x,a)\n",
        "print(z)"
      ],
      "metadata": {
        "colab": {
          "base_uri": "https://localhost:8080/"
        },
        "id": "m7xWozJW7EQG",
        "outputId": "b2f22b31-496e-4f05-c5ee-471a8a86f27a"
      },
      "execution_count": 76,
      "outputs": [
        {
          "output_type": "stream",
          "name": "stdout",
          "text": [
            "1.2649110640673518\n"
          ]
        }
      ]
    },
    {
      "cell_type": "markdown",
      "source": [
        " Write function to compute and return Z-score values of a list of numbers"
      ],
      "metadata": {
        "id": "XrhCa-dq7ace"
      }
    },
    {
      "cell_type": "code",
      "source": [],
      "metadata": {
        "id": "IMmv4R1c-uS-"
      },
      "execution_count": null,
      "outputs": []
    }
  ]
}